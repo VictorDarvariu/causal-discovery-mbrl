{
 "cells": [
  {
   "cell_type": "code",
   "execution_count": null,
   "id": "d7c49eca",
   "metadata": {
    "pycharm": {
     "name": "#%%\n"
    }
   },
   "outputs": [],
   "source": [
    "import sys\n",
    "sys.path.append('/causal-discovery')\n",
    "\n",
    "import pandas as pd\n",
    "import matplotlib as mpl\n",
    "import matplotlib.pyplot as plt\n",
    "import seaborn as sns\n",
    "\n",
    "from cdrl.io.storage import EvaluationStorage\n",
    "from cdrl.io.file_paths import FilePaths\n",
    "\n",
    "gtype = \"er\"\n",
    "\n",
    "gsizes = [15, 20, 25, 30, 35, 40, 45]\n",
    "datasizes = [10, 25, 50, 75, 100, 175, 250, 375, 500, 750, 1000, 1750, 2500, 3750, 5000]\n",
    "\n",
    "exp_ids_vardensity = [f\"synth10gpr_vardensity_{gtype}_e{gsize}\" for gsize in gsizes]\n",
    "exp_ids_vardata = [f\"synth10gpr_vardata_{gtype}_n{datasize}\" for datasize in datasizes]\n",
    "\n",
    "fp_out = FilePaths('/experiment_data', 'aggregate_cdrl')\n"
   ]
  },
  {
   "cell_type": "code",
   "execution_count": null,
   "outputs": [],
   "source": [
    "def get_data_for_exp_ids(exp_ids):\n",
    "    all_data = []\n",
    "\n",
    "    for exp_id in exp_ids:\n",
    "        fp_in = FilePaths('/experiment_data', exp_id)\n",
    "        storage = EvaluationStorage(fp_in)\n",
    "        emd = storage.get_metrics_data(\"eval\")\n",
    "\n",
    "        for e in emd:\n",
    "            entry = {}\n",
    "            if \"density\" in exp_id:\n",
    "                entry['e'] = int(exp_id.split(\"_\")[-1][1:])\n",
    "            if \"data\" in exp_id:\n",
    "                entry['m'] = int(exp_id.split(\"_\")[-1][1:])\n",
    "\n",
    "            for metric in ['tpr', 'fdr', 'shd']:\n",
    "                entry[metric] = e['results']['construct'][metric]\n",
    "\n",
    "            entry['agent'] = e['agent']\n",
    "            all_data.append(entry)\n",
    "\n",
    "    df = pd.DataFrame(all_data)\n",
    "    df['agent'] = pd.Categorical(df['agent'], categories=[\"uctfull\", \"rlbic\", \"greedy\", \"randomshooting\", \"random\"], ordered=True)\n",
    "    df = df.sort_values(by=[\"agent\"])\n",
    "    return df"
   ],
   "metadata": {
    "collapsed": false,
    "pycharm": {
     "name": "#%%\n"
    }
   },
   "id": "eb2451b46f945acc"
  },
  {
   "cell_type": "code",
   "execution_count": null,
   "outputs": [],
   "source": [
    "density_df = get_data_for_exp_ids(exp_ids_vardensity)\n",
    "data_df = get_data_for_exp_ids(exp_ids_vardata)"
   ],
   "metadata": {
    "collapsed": false
   },
   "id": "3415d120a084ed53"
  },
  {
   "cell_type": "code",
   "execution_count": null,
   "outputs": [],
   "source": [
    "from matplotlib.legend_handler import HandlerLine2D\n",
    "def legend_handle_update(handle, orig):\n",
    "    handle.update_from(orig)\n",
    "    handle.set_linewidth(8)\n",
    "\n",
    "sns.set(font_scale=3.5)\n",
    "plt.rc('font', family='serif')\n",
    "# mpl.rcParams['text.usetex'] = True\n",
    "mpl.rcParams[\"lines.linewidth\"] = 8\n",
    "mpl.rcParams[\"lines.markersize\"] = 72\n",
    "\n",
    "legend_i = 1\n",
    "\n",
    "dims = (2.5 * 8.26, 1.2 * 8.26)\n",
    "\n",
    "fig, axes = plt.subplots(1, 2, figsize=dims, squeeze=False, sharey=False, sharex=False)\n",
    "\n",
    "xs = [\"e\", \"m\"]\n",
    "display_metric = \"shd\"\n",
    "\n",
    "\n",
    "for i, df in enumerate([density_df, data_df]):\n",
    "    ax = axes[0][i]\n",
    "\n",
    "    sns.lineplot(data=df, x=xs[i], y=display_metric, ax=ax, hue=\"agent\")\n",
    "    if i == 1:\n",
    "        ax.set_xscale(\"log\")\n",
    "        ax.get_xaxis().get_major_formatter().labelOnlyBase = False\n",
    "\n",
    "    handles, labels = ax.get_legend_handles_labels()\n",
    "    ax.legend_.remove()\n",
    "\n",
    "    ax.set_ylabel(\"SHD\")\n",
    "    if xs[i] == \"e\":\n",
    "        ax.set_xlabel(\"Number of edges\")\n",
    "    else:\n",
    "        ax.set_xlabel(\"Number of datapoints\")\n",
    "\n",
    "agent_display_names = {\"uctfull\": \"CD-UCT\",\n",
    "                       \"rlbic\": \"RL-BIC\",\n",
    "                       \"greedy\": \"Greedy Search\",\n",
    "                       \"random\": \"Uniform Sampling\",\n",
    "                       \"randomshooting\": \"Random Search\"}\n",
    "\n",
    "relevant_labels = [labels[1]]\n",
    "relevant_labels.extend(labels[3:])\n",
    "relevant_handles = [handles[1]]\n",
    "relevant_handles.extend(handles[3:])\n",
    "\n",
    "display_labels = [agent_display_names[label] for label in relevant_labels]\n",
    "fig.legend(relevant_handles, display_labels, loc='upper center', borderaxespad=-0.25, fontsize=\"medium\", ncol=2,\n",
    "               handler_map={plt.Line2D: HandlerLine2D(update_func=legend_handle_update)})\n",
    "fig.tight_layout(rect=[0,0,1,0.89])\n",
    "plt.savefig(fp_out.figures_dir / f\"finalvartopology_{display_metric}.pdf\", bbox_inches=\"tight\")"
   ],
   "metadata": {
    "collapsed": false
   },
   "id": "b8075e6847ab4649"
  },
  {
   "cell_type": "code",
   "execution_count": null,
   "outputs": [],
   "source": [],
   "metadata": {
    "collapsed": false
   },
   "id": "876d9b95f8a0f3f6"
  },
  {
   "cell_type": "markdown",
   "source": [],
   "metadata": {
    "collapsed": false
   },
   "id": "35139f46635716f2"
  }
 ],
 "metadata": {
  "kernelspec": {
   "display_name": "causal-discovery-env",
   "language": "python",
   "name": "cd-env"
  },
  "language_info": {
   "codemirror_mode": {
    "name": "ipython",
    "version": 3
   },
   "file_extension": ".py",
   "mimetype": "text/x-python",
   "name": "python",
   "nbconvert_exporter": "python",
   "pygments_lexer": "ipython3",
   "version": "3.6.8"
  }
 },
 "nbformat": 4,
 "nbformat_minor": 5
}
