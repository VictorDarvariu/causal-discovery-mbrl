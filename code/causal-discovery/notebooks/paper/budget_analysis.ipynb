{
 "cells": [
  {
   "cell_type": "code",
   "execution_count": null,
   "metadata": {
    "collapsed": true
   },
   "outputs": [],
   "source": [
    "import sys\n",
    "sys.path.append('/causal-discovery')\n",
    "\n",
    "from cdrl.agent.mcts.mcts_agent import *\n",
    "import numpy as np\n",
    "import pandas as pd\n",
    "import matplotlib as mpl\n",
    "import matplotlib.pyplot as plt\n",
    "import matplotlib.transforms as transforms\n",
    "import seaborn as sns\n",
    "\n",
    "from cdrl.io.storage import EvaluationStorage\n",
    "from cdrl.io.file_paths import FilePaths\n",
    "\n",
    "budgets = [\"0.1\", \"0.25\" \"0.5\", \"1\", \"2.5\", \"5\", \"10\", \"25\", \"50\", \"100\", \"250\", \"500\", \"1178\"]\n",
    "\n",
    "exp_ids_main = [f\"sachs_varbudgetb{budget}\" for budget in budgets]\n",
    "exp_ids_baselines = [f\"sachs_primary\" for budget in budgets]\n"
   ]
  },
  {
   "cell_type": "markdown",
   "source": [],
   "metadata": {
    "collapsed": false
   }
  },
  {
   "cell_type": "code",
   "execution_count": null,
   "outputs": [],
   "source": [
    "all_data = []\n",
    "\n",
    "for exp_ids in [exp_ids_main, exp_ids_baselines]:\n",
    "    for i, exp_id in enumerate(exp_ids):\n",
    "        fp_in = FilePaths('/experiment_data', exp_id)\n",
    "        storage = EvaluationStorage(fp_in)\n",
    "        emd = storage.get_metrics_data(\"eval\")\n",
    "\n",
    "        for entry in emd:\n",
    "            if \"primary\" in exp_id and entry[\"agent\"] in [\"uctfull\", \"randomshooting\"]:\n",
    "                # overlap between \"primary\" and 1178 budget experiments, skip so we do not include this data twice.\n",
    "                continue\n",
    "            \n",
    "            row_dict = {}\n",
    "            row_dict[\"agent\"] = entry[\"agent\"]\n",
    "            row_dict[\"construct_reward\"] = entry[\"results\"][\"construct\"][\"reward\"]\n",
    "            row_dict[\"construct_shd\"] = entry[\"results\"][\"construct\"][\"shd\"]\n",
    "            row_dict[\"prune_shd\"] = entry[\"results\"][\"prune_cam\"][\"shd\"]\n",
    "            row_dict[\"budget\"] = float(budgets[i])\n",
    "            row_dict[\"total_seconds\"] = entry[\"duration_construct_s\"]\n",
    "\n",
    "            all_data.append(row_dict)\n",
    "\n",
    "budget_df = pd.DataFrame(all_data)\n",
    "budget_df['agent'] = pd.Categorical(budget_df['agent'], categories=[\"uctfull\", \"rlbic\", \"greedy\", \"randomshooting\", \"random\"], ordered=True)\n",
    "budget_df = budget_df.sort_values(by=[\"agent\"])\n"
   ],
   "metadata": {
    "collapsed": false
   }
  },
  {
   "cell_type": "markdown",
   "source": [],
   "metadata": {
    "collapsed": false
   }
  },
  {
   "cell_type": "code",
   "execution_count": null,
   "outputs": [],
   "source": [
    "from matplotlib.legend_handler import HandlerLine2D\n",
    "\n",
    "\n",
    "def legend_handle_update(handle, orig):\n",
    "    handle.update_from(orig)\n",
    "    handle.set_linewidth(8)\n",
    "\n",
    "sns.set(font_scale=3.5)\n",
    "plt.rc('font', family='serif')\n",
    "mpl.rcParams['text.usetex'] = False\n",
    "mpl.rcParams[\"lines.linewidth\"] = 8\n",
    "mpl.rcParams[\"lines.markersize\"] = 72\n",
    "\n",
    "dims = (5 * 8.26, 1.2 * 8.26)\n",
    "all_budgets = [float(b) for b in budgets]\n",
    "plot_ys = [\"construct_reward\", \"construct_shd\", \"prune_shd\", \"total_seconds\"]\n",
    "plot_ys_display = [\"Construction reward\", r\"Construction SHD\", r\"Pruning SHD\", r\"Total seconds\"]\n",
    "fig, axes = plt.subplots(1, 4, figsize=dims, squeeze=False, sharey=False, sharex=False)\n",
    "fig.tight_layout()\n",
    "\n",
    "for i, plot_y in enumerate(plot_ys):\n",
    "    ax = axes[0][i]\n",
    "\n",
    "    sns.lineplot(data=budget_df, x=\"budget\", y=plot_y, ax=ax, hue=\"agent\")\n",
    "    ax.set_xticks(all_budgets)\n",
    "    handles, labels = ax.get_legend_handles_labels()\n",
    "\n",
    "    ax.set_xscale(\"log\")\n",
    "    if plot_y == \"total_seconds\":\n",
    "        ax.set_yscale(\"log\")\n",
    "\n",
    "    ax.get_xaxis().get_major_formatter().labelOnlyBase = False\n",
    "\n",
    "\n",
    "    ax.tick_params(axis='both', which='major', labelsize=42)\n",
    "    ax.tick_params(axis='both', which='minor', labelsize=24)\n",
    "    ax.set_xticks([10 ** i for i in [-1, 0, 1, 2, 3]])\n",
    "    if plot_y == \"total_seconds\":\n",
    "        ax.set_yticks([10 ** i for i in [0, 1, 2, 3]])\n",
    "\n",
    "\n",
    "    ax.legend_.remove()\n",
    "\n",
    "    ax.set_ylabel(plot_ys_display[i])\n",
    "    ax.set_xlabel(\"Budget\")\n",
    "\n",
    "agent_display_names = {\"uctfull\": \"CD-UCT\",\n",
    "                       \"rlbic\": \"RL-BIC\",\n",
    "                       \"greedy\": \"Greedy Search\",\n",
    "                       \"random\": \"Uniform Sampling\",\n",
    "                       \"randomshooting\": \"Random Search\",\n",
    "                       }\n",
    "\n",
    "display_labels = [agent_display_names[label] for label in labels[1:]]\n",
    "fig.legend(handles[1:], display_labels, loc='upper center', borderaxespad=-0.2, fontsize=\"medium\", ncol=5,\n",
    "               handler_map={plt.Line2D: HandlerLine2D(update_func=legend_handle_update)})\n",
    "\n",
    "fp_out = FilePaths('/experiment_data', 'aggregate_cdrl')\n",
    "plt.savefig(fp_out.figures_dir / f\"budget_analysis_final.pdf\", bbox_inches=\"tight\")"
   ],
   "metadata": {
    "collapsed": false
   }
  }
 ],
 "metadata": {
  "kernelspec": {
   "display_name": "Python 3",
   "language": "python",
   "name": "python3"
  },
  "language_info": {
   "codemirror_mode": {
    "name": "ipython",
    "version": 2
   },
   "file_extension": ".py",
   "mimetype": "text/x-python",
   "name": "python",
   "nbconvert_exporter": "python",
   "pygments_lexer": "ipython2",
   "version": "2.7.6"
  }
 },
 "nbformat": 4,
 "nbformat_minor": 0
}
